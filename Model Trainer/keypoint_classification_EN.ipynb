{
 "cells": [
  {
   "cell_type": "code",
   "execution_count": 1,
   "metadata": {
    "id": "igMyGnjE9hEp"
   },
   "outputs": [
    {
     "name": "stdout",
     "output_type": "stream",
     "text": [
      "WARNING:tensorflow:From C:\\Users\\amang\\anaconda3\\lib\\site-packages\\keras\\src\\losses.py:2976: The name tf.losses.sparse_softmax_cross_entropy is deprecated. Please use tf.compat.v1.losses.sparse_softmax_cross_entropy instead.\n",
      "\n"
     ]
    }
   ],
   "source": [
    "import csv\n",
    "\n",
    "import numpy as np\n",
    "import tensorflow as tf\n",
    "from sklearn.model_selection import train_test_split\n",
    "\n",
    "RANDOM_SEED = 42"
   ]
  },
  {
   "cell_type": "markdown",
   "metadata": {
    "id": "t2HDvhIu9hEr"
   },
   "source": [
    "# Specify each path"
   ]
  },
  {
   "cell_type": "code",
   "execution_count": 2,
   "metadata": {
    "id": "9NvZP2Zn9hEy"
   },
   "outputs": [],
   "source": [
    "dataset = 'model/keypoint_classifier/keypoint.csv'\n",
    "model_save_path = 'model/keypoint_classifier/keypoint_classifier.hdf5'\n",
    "tflite_save_path = 'model/keypoint_classifier/keypoint_classifier.tflite'"
   ]
  },
  {
   "cell_type": "markdown",
   "metadata": {
    "id": "s5oMH7x19hEz"
   },
   "source": [
    "# Set number of classes"
   ]
  },
  {
   "cell_type": "code",
   "execution_count": 3,
   "metadata": {
    "id": "du4kodXL9hEz"
   },
   "outputs": [],
   "source": [
    "NUM_CLASSES = 11"
   ]
  },
  {
   "cell_type": "markdown",
   "metadata": {
    "id": "XjnL0uso9hEz"
   },
   "source": [
    "# Dataset reading"
   ]
  },
  {
   "cell_type": "code",
   "execution_count": 4,
   "metadata": {
    "id": "QT5ZqtEz9hE0"
   },
   "outputs": [],
   "source": [
    "X_dataset = np.loadtxt(dataset, delimiter=',', dtype='float32', usecols=list(range(1, (21 * 2) + 1)))"
   ]
  },
  {
   "cell_type": "code",
   "execution_count": 5,
   "metadata": {
    "id": "QmoKFsp49hE0"
   },
   "outputs": [],
   "source": [
    "y_dataset = np.loadtxt(dataset, delimiter=',', dtype='int32', usecols=(0))"
   ]
  },
  {
   "cell_type": "code",
   "execution_count": 6,
   "metadata": {
    "id": "xQU7JTZ_9hE0"
   },
   "outputs": [],
   "source": [
    "X_train, X_test, y_train, y_test = train_test_split(X_dataset, y_dataset, train_size=0.75, random_state=RANDOM_SEED)"
   ]
  },
  {
   "cell_type": "markdown",
   "metadata": {
    "id": "mxK_lETT9hE0"
   },
   "source": [
    "# Model building"
   ]
  },
  {
   "cell_type": "code",
   "execution_count": 7,
   "metadata": {
    "id": "vHBmUf1t9hE1"
   },
   "outputs": [
    {
     "name": "stdout",
     "output_type": "stream",
     "text": [
      "WARNING:tensorflow:From C:\\Users\\amang\\anaconda3\\lib\\site-packages\\keras\\src\\backend.py:1398: The name tf.executing_eagerly_outside_functions is deprecated. Please use tf.compat.v1.executing_eagerly_outside_functions instead.\n",
      "\n"
     ]
    }
   ],
   "source": [
    "model = tf.keras.models.Sequential([\n",
    "    tf.keras.layers.Input((21 * 2, )),\n",
    "    tf.keras.layers.Dropout(0.2),\n",
    "    tf.keras.layers.Dense(20, activation='relu'),\n",
    "    tf.keras.layers.Dropout(0.4),\n",
    "    tf.keras.layers.Dense(10, activation='relu'),\n",
    "    tf.keras.layers.Dense(NUM_CLASSES, activation='softmax')\n",
    "])"
   ]
  },
  {
   "cell_type": "code",
   "execution_count": 8,
   "metadata": {
    "colab": {
     "base_uri": "https://localhost:8080/"
    },
    "id": "ypqky9tc9hE1",
    "outputId": "5db082bb-30e3-4110-bf63-a1ee777ecd46"
   },
   "outputs": [
    {
     "name": "stdout",
     "output_type": "stream",
     "text": [
      "Model: \"sequential\"\n",
      "_________________________________________________________________\n",
      " Layer (type)                Output Shape              Param #   \n",
      "=================================================================\n",
      " dropout (Dropout)           (None, 42)                0         \n",
      "                                                                 \n",
      " dense (Dense)               (None, 20)                860       \n",
      "                                                                 \n",
      " dropout_1 (Dropout)         (None, 20)                0         \n",
      "                                                                 \n",
      " dense_1 (Dense)             (None, 10)                210       \n",
      "                                                                 \n",
      " dense_2 (Dense)             (None, 11)                121       \n",
      "                                                                 \n",
      "=================================================================\n",
      "Total params: 1191 (4.65 KB)\n",
      "Trainable params: 1191 (4.65 KB)\n",
      "Non-trainable params: 0 (0.00 Byte)\n",
      "_________________________________________________________________\n"
     ]
    }
   ],
   "source": [
    "model.summary()  # tf.keras.utils.plot_model(model, show_shapes=True)"
   ]
  },
  {
   "cell_type": "code",
   "execution_count": 9,
   "metadata": {
    "id": "MbMjOflQ9hE1"
   },
   "outputs": [],
   "source": [
    "# Model checkpoint callback\n",
    "cp_callback = tf.keras.callbacks.ModelCheckpoint(\n",
    "    model_save_path, verbose=1, save_weights_only=False)\n",
    "# Callback for early stopping\n",
    "es_callback = tf.keras.callbacks.EarlyStopping(patience=20, verbose=1)"
   ]
  },
  {
   "cell_type": "code",
   "execution_count": 10,
   "metadata": {
    "id": "c3Dac0M_9hE2"
   },
   "outputs": [
    {
     "name": "stdout",
     "output_type": "stream",
     "text": [
      "WARNING:tensorflow:From C:\\Users\\amang\\anaconda3\\lib\\site-packages\\keras\\src\\optimizers\\__init__.py:309: The name tf.train.Optimizer is deprecated. Please use tf.compat.v1.train.Optimizer instead.\n",
      "\n"
     ]
    }
   ],
   "source": [
    "# Model compilation\n",
    "model.compile(\n",
    "    optimizer='adam',\n",
    "    loss='sparse_categorical_crossentropy',\n",
    "    metrics=['accuracy']\n",
    ")"
   ]
  },
  {
   "cell_type": "markdown",
   "metadata": {
    "id": "7XI0j1Iu9hE2"
   },
   "source": [
    "# Model training"
   ]
  },
  {
   "cell_type": "code",
   "execution_count": 11,
   "metadata": {
    "colab": {
     "base_uri": "https://localhost:8080/"
    },
    "id": "WirBl-JE9hE3",
    "outputId": "71b30ca2-8294-4d9d-8aa2-800d90d399de",
    "scrolled": true
   },
   "outputs": [
    {
     "name": "stdout",
     "output_type": "stream",
     "text": [
      "Epoch 1/1000\n",
      "WARNING:tensorflow:From C:\\Users\\amang\\anaconda3\\lib\\site-packages\\keras\\src\\utils\\tf_utils.py:492: The name tf.ragged.RaggedTensorValue is deprecated. Please use tf.compat.v1.ragged.RaggedTensorValue instead.\n",
      "\n",
      "WARNING:tensorflow:From C:\\Users\\amang\\anaconda3\\lib\\site-packages\\keras\\src\\engine\\base_layer_utils.py:384: The name tf.executing_eagerly_outside_functions is deprecated. Please use tf.compat.v1.executing_eagerly_outside_functions instead.\n",
      "\n",
      " 99/101 [============================>.] - ETA: 0s - loss: 2.3673 - accuracy: 0.1473\n",
      "Epoch 1: saving model to model/keypoint_classifier\\keypoint_classifier.hdf5\n"
     ]
    },
    {
     "name": "stderr",
     "output_type": "stream",
     "text": [
      "C:\\Users\\amang\\anaconda3\\lib\\site-packages\\keras\\src\\engine\\training.py:3103: UserWarning: You are saving your model as an HDF5 file via `model.save()`. This file format is considered legacy. We recommend using instead the native Keras format, e.g. `model.save('my_model.keras')`.\n",
      "  saving_api.save_model(\n"
     ]
    },
    {
     "name": "stdout",
     "output_type": "stream",
     "text": [
      "101/101 [==============================] - 4s 16ms/step - loss: 2.3656 - accuracy: 0.1487 - val_loss: 2.2179 - val_accuracy: 0.2734\n",
      "Epoch 2/1000\n",
      " 98/101 [============================>.] - ETA: 0s - loss: 2.1597 - accuracy: 0.2536\n",
      "Epoch 2: saving model to model/keypoint_classifier\\keypoint_classifier.hdf5\n",
      "101/101 [==============================] - 1s 11ms/step - loss: 2.1581 - accuracy: 0.2534 - val_loss: 1.9031 - val_accuracy: 0.3594\n",
      "Epoch 3/1000\n",
      " 99/101 [============================>.] - ETA: 0s - loss: 1.9294 - accuracy: 0.3321\n",
      "Epoch 3: saving model to model/keypoint_classifier\\keypoint_classifier.hdf5\n",
      "101/101 [==============================] - 1s 10ms/step - loss: 1.9281 - accuracy: 0.3322 - val_loss: 1.6335 - val_accuracy: 0.4950\n",
      "Epoch 4/1000\n",
      " 96/101 [===========================>..] - ETA: 0s - loss: 1.7626 - accuracy: 0.3873\n",
      "Epoch 4: saving model to model/keypoint_classifier\\keypoint_classifier.hdf5\n",
      "101/101 [==============================] - 1s 11ms/step - loss: 1.7594 - accuracy: 0.3874 - val_loss: 1.4514 - val_accuracy: 0.5698\n",
      "Epoch 5/1000\n",
      " 96/101 [===========================>..] - ETA: 0s - loss: 1.6476 - accuracy: 0.4247\n",
      "Epoch 5: saving model to model/keypoint_classifier\\keypoint_classifier.hdf5\n",
      "101/101 [==============================] - 1s 12ms/step - loss: 1.6447 - accuracy: 0.4260 - val_loss: 1.3003 - val_accuracy: 0.6392\n",
      "Epoch 6/1000\n",
      " 98/101 [============================>.] - ETA: 0s - loss: 1.5676 - accuracy: 0.4469\n",
      "Epoch 6: saving model to model/keypoint_classifier\\keypoint_classifier.hdf5\n",
      "101/101 [==============================] - 1s 11ms/step - loss: 1.5653 - accuracy: 0.4479 - val_loss: 1.2079 - val_accuracy: 0.6772\n",
      "Epoch 7/1000\n",
      " 95/101 [===========================>..] - ETA: 0s - loss: 1.5217 - accuracy: 0.4601\n",
      "Epoch 7: saving model to model/keypoint_classifier\\keypoint_classifier.hdf5\n",
      "101/101 [==============================] - 1s 11ms/step - loss: 1.5167 - accuracy: 0.4620 - val_loss: 1.1294 - val_accuracy: 0.7066\n",
      "Epoch 8/1000\n",
      " 99/101 [============================>.] - ETA: 0s - loss: 1.4525 - accuracy: 0.4859\n",
      "Epoch 8: saving model to model/keypoint_classifier\\keypoint_classifier.hdf5\n",
      "101/101 [==============================] - 1s 12ms/step - loss: 1.4506 - accuracy: 0.4866 - val_loss: 1.0684 - val_accuracy: 0.7576\n",
      "Epoch 9/1000\n",
      " 92/101 [==========================>...] - ETA: 0s - loss: 1.4258 - accuracy: 0.4926\n",
      "Epoch 9: saving model to model/keypoint_classifier\\keypoint_classifier.hdf5\n",
      "101/101 [==============================] - 1s 9ms/step - loss: 1.4266 - accuracy: 0.4910 - val_loss: 1.0087 - val_accuracy: 0.7742\n",
      "Epoch 10/1000\n",
      " 96/101 [===========================>..] - ETA: 0s - loss: 1.3801 - accuracy: 0.5094\n",
      "Epoch 10: saving model to model/keypoint_classifier\\keypoint_classifier.hdf5\n",
      "101/101 [==============================] - 1s 9ms/step - loss: 1.3794 - accuracy: 0.5094 - val_loss: 0.9551 - val_accuracy: 0.7693\n",
      "Epoch 11/1000\n",
      " 99/101 [============================>.] - ETA: 0s - loss: 1.3428 - accuracy: 0.5226\n",
      "Epoch 11: saving model to model/keypoint_classifier\\keypoint_classifier.hdf5\n",
      "101/101 [==============================] - 1s 9ms/step - loss: 1.3422 - accuracy: 0.5235 - val_loss: 0.9080 - val_accuracy: 0.7833\n",
      "Epoch 12/1000\n",
      " 92/101 [==========================>...] - ETA: 0s - loss: 1.3244 - accuracy: 0.5337\n",
      "Epoch 12: saving model to model/keypoint_classifier\\keypoint_classifier.hdf5\n",
      "101/101 [==============================] - 1s 9ms/step - loss: 1.3255 - accuracy: 0.5337 - val_loss: 0.8571 - val_accuracy: 0.8061\n",
      "Epoch 13/1000\n",
      "101/101 [==============================] - ETA: 0s - loss: 1.2895 - accuracy: 0.5477\n",
      "Epoch 13: saving model to model/keypoint_classifier\\keypoint_classifier.hdf5\n",
      "101/101 [==============================] - 1s 9ms/step - loss: 1.2895 - accuracy: 0.5477 - val_loss: 0.8304 - val_accuracy: 0.8108\n",
      "Epoch 14/1000\n",
      " 93/101 [==========================>...] - ETA: 0s - loss: 1.2707 - accuracy: 0.5467\n",
      "Epoch 14: saving model to model/keypoint_classifier\\keypoint_classifier.hdf5\n",
      "101/101 [==============================] - 1s 9ms/step - loss: 1.2684 - accuracy: 0.5482 - val_loss: 0.7942 - val_accuracy: 0.8194\n",
      "Epoch 15/1000\n",
      " 98/101 [============================>.] - ETA: 0s - loss: 1.2517 - accuracy: 0.5579\n",
      "Epoch 15: saving model to model/keypoint_classifier\\keypoint_classifier.hdf5\n",
      "101/101 [==============================] - 1s 11ms/step - loss: 1.2505 - accuracy: 0.5576 - val_loss: 0.7724 - val_accuracy: 0.8215\n",
      "Epoch 16/1000\n",
      " 92/101 [==========================>...] - ETA: 0s - loss: 1.2335 - accuracy: 0.5640\n",
      "Epoch 16: saving model to model/keypoint_classifier\\keypoint_classifier.hdf5\n",
      "101/101 [==============================] - 1s 9ms/step - loss: 1.2328 - accuracy: 0.5644 - val_loss: 0.7419 - val_accuracy: 0.8224\n",
      "Epoch 17/1000\n",
      " 98/101 [============================>.] - ETA: 0s - loss: 1.2020 - accuracy: 0.5779\n",
      "Epoch 17: saving model to model/keypoint_classifier\\keypoint_classifier.hdf5\n",
      "101/101 [==============================] - 1s 10ms/step - loss: 1.2007 - accuracy: 0.5779 - val_loss: 0.7169 - val_accuracy: 0.8366\n",
      "Epoch 18/1000\n",
      " 99/101 [============================>.] - ETA: 0s - loss: 1.1925 - accuracy: 0.5770\n",
      "Epoch 18: saving model to model/keypoint_classifier\\keypoint_classifier.hdf5\n",
      "101/101 [==============================] - 1s 10ms/step - loss: 1.1930 - accuracy: 0.5773 - val_loss: 0.6916 - val_accuracy: 0.8488\n",
      "Epoch 19/1000\n",
      " 99/101 [============================>.] - ETA: 0s - loss: 1.1515 - accuracy: 0.5963\n",
      "Epoch 19: saving model to model/keypoint_classifier\\keypoint_classifier.hdf5\n",
      "101/101 [==============================] - 1s 11ms/step - loss: 1.1517 - accuracy: 0.5965 - val_loss: 0.6702 - val_accuracy: 0.8553\n",
      "Epoch 20/1000\n",
      "100/101 [============================>.] - ETA: 0s - loss: 1.1652 - accuracy: 0.5864\n",
      "Epoch 20: saving model to model/keypoint_classifier\\keypoint_classifier.hdf5\n",
      "101/101 [==============================] - 1s 11ms/step - loss: 1.1644 - accuracy: 0.5870 - val_loss: 0.6624 - val_accuracy: 0.8606\n",
      "Epoch 21/1000\n",
      " 97/101 [===========================>..] - ETA: 0s - loss: 1.1499 - accuracy: 0.5998\n",
      "Epoch 21: saving model to model/keypoint_classifier\\keypoint_classifier.hdf5\n",
      "101/101 [==============================] - 1s 11ms/step - loss: 1.1493 - accuracy: 0.6007 - val_loss: 0.6566 - val_accuracy: 0.8432\n",
      "Epoch 22/1000\n",
      " 95/101 [===========================>..] - ETA: 0s - loss: 1.1463 - accuracy: 0.5982\n",
      "Epoch 22: saving model to model/keypoint_classifier\\keypoint_classifier.hdf5\n",
      "101/101 [==============================] - 1s 11ms/step - loss: 1.1457 - accuracy: 0.5983 - val_loss: 0.6380 - val_accuracy: 0.8641\n",
      "Epoch 23/1000\n",
      " 97/101 [===========================>..] - ETA: 0s - loss: 1.1363 - accuracy: 0.5972\n",
      "Epoch 23: saving model to model/keypoint_classifier\\keypoint_classifier.hdf5\n",
      "101/101 [==============================] - 1s 10ms/step - loss: 1.1359 - accuracy: 0.5976 - val_loss: 0.6250 - val_accuracy: 0.8718\n",
      "Epoch 24/1000\n",
      " 95/101 [===========================>..] - ETA: 0s - loss: 1.1206 - accuracy: 0.6090\n",
      "Epoch 24: saving model to model/keypoint_classifier\\keypoint_classifier.hdf5\n",
      "101/101 [==============================] - 1s 11ms/step - loss: 1.1190 - accuracy: 0.6089 - val_loss: 0.5995 - val_accuracy: 0.8714\n",
      "Epoch 25/1000\n",
      "101/101 [==============================] - ETA: 0s - loss: 1.1100 - accuracy: 0.6113\n",
      "Epoch 25: saving model to model/keypoint_classifier\\keypoint_classifier.hdf5\n",
      "101/101 [==============================] - 1s 9ms/step - loss: 1.1100 - accuracy: 0.6113 - val_loss: 0.5989 - val_accuracy: 0.8625\n",
      "Epoch 26/1000\n",
      " 97/101 [===========================>..] - ETA: 0s - loss: 1.0874 - accuracy: 0.6184\n",
      "Epoch 26: saving model to model/keypoint_classifier\\keypoint_classifier.hdf5\n",
      "101/101 [==============================] - 1s 8ms/step - loss: 1.0887 - accuracy: 0.6181 - val_loss: 0.5826 - val_accuracy: 0.8760\n",
      "Epoch 27/1000\n",
      "101/101 [==============================] - ETA: 0s - loss: 1.0873 - accuracy: 0.6141\n",
      "Epoch 27: saving model to model/keypoint_classifier\\keypoint_classifier.hdf5\n",
      "101/101 [==============================] - 1s 8ms/step - loss: 1.0873 - accuracy: 0.6141 - val_loss: 0.5754 - val_accuracy: 0.8891\n",
      "Epoch 28/1000\n"
     ]
    },
    {
     "name": "stdout",
     "output_type": "stream",
     "text": [
      "101/101 [==============================] - ETA: 0s - loss: 1.0774 - accuracy: 0.6191\n",
      "Epoch 28: saving model to model/keypoint_classifier\\keypoint_classifier.hdf5\n",
      "101/101 [==============================] - 1s 9ms/step - loss: 1.0774 - accuracy: 0.6191 - val_loss: 0.5729 - val_accuracy: 0.8742\n",
      "Epoch 29/1000\n",
      " 98/101 [============================>.] - ETA: 0s - loss: 1.0762 - accuracy: 0.6207\n",
      "Epoch 29: saving model to model/keypoint_classifier\\keypoint_classifier.hdf5\n",
      "101/101 [==============================] - 1s 9ms/step - loss: 1.0767 - accuracy: 0.6205 - val_loss: 0.5712 - val_accuracy: 0.8767\n",
      "Epoch 30/1000\n",
      " 92/101 [==========================>...] - ETA: 0s - loss: 1.0579 - accuracy: 0.6249\n",
      "Epoch 30: saving model to model/keypoint_classifier\\keypoint_classifier.hdf5\n",
      "101/101 [==============================] - 1s 9ms/step - loss: 1.0620 - accuracy: 0.6246 - val_loss: 0.5527 - val_accuracy: 0.8770\n",
      "Epoch 31/1000\n",
      " 96/101 [===========================>..] - ETA: 0s - loss: 1.0430 - accuracy: 0.6351\n",
      "Epoch 31: saving model to model/keypoint_classifier\\keypoint_classifier.hdf5\n",
      "101/101 [==============================] - 1s 10ms/step - loss: 1.0442 - accuracy: 0.6356 - val_loss: 0.5429 - val_accuracy: 0.8902\n",
      "Epoch 32/1000\n",
      " 99/101 [============================>.] - ETA: 0s - loss: 1.0583 - accuracy: 0.6274\n",
      "Epoch 32: saving model to model/keypoint_classifier\\keypoint_classifier.hdf5\n",
      "101/101 [==============================] - 1s 10ms/step - loss: 1.0581 - accuracy: 0.6275 - val_loss: 0.5468 - val_accuracy: 0.8888\n",
      "Epoch 33/1000\n",
      " 94/101 [==========================>...] - ETA: 0s - loss: 1.0478 - accuracy: 0.6347\n",
      "Epoch 33: saving model to model/keypoint_classifier\\keypoint_classifier.hdf5\n",
      "101/101 [==============================] - 1s 8ms/step - loss: 1.0500 - accuracy: 0.6340 - val_loss: 0.5497 - val_accuracy: 0.8947\n",
      "Epoch 34/1000\n",
      " 95/101 [===========================>..] - ETA: 0s - loss: 1.0349 - accuracy: 0.6333\n",
      "Epoch 34: saving model to model/keypoint_classifier\\keypoint_classifier.hdf5\n",
      "101/101 [==============================] - 1s 10ms/step - loss: 1.0386 - accuracy: 0.6327 - val_loss: 0.5277 - val_accuracy: 0.8928\n",
      "Epoch 35/1000\n",
      " 92/101 [==========================>...] - ETA: 0s - loss: 1.0256 - accuracy: 0.6415\n",
      "Epoch 35: saving model to model/keypoint_classifier\\keypoint_classifier.hdf5\n",
      "101/101 [==============================] - 1s 10ms/step - loss: 1.0237 - accuracy: 0.6409 - val_loss: 0.5253 - val_accuracy: 0.8944\n",
      "Epoch 36/1000\n",
      " 95/101 [===========================>..] - ETA: 0s - loss: 1.0021 - accuracy: 0.6439\n",
      "Epoch 36: saving model to model/keypoint_classifier\\keypoint_classifier.hdf5\n",
      "101/101 [==============================] - 1s 10ms/step - loss: 1.0047 - accuracy: 0.6432 - val_loss: 0.5069 - val_accuracy: 0.8984\n",
      "Epoch 37/1000\n",
      "101/101 [==============================] - ETA: 0s - loss: 1.0086 - accuracy: 0.6456\n",
      "Epoch 37: saving model to model/keypoint_classifier\\keypoint_classifier.hdf5\n",
      "101/101 [==============================] - 1s 10ms/step - loss: 1.0086 - accuracy: 0.6456 - val_loss: 0.5067 - val_accuracy: 0.8902\n",
      "Epoch 38/1000\n",
      " 98/101 [============================>.] - ETA: 0s - loss: 1.0041 - accuracy: 0.6475\n",
      "Epoch 38: saving model to model/keypoint_classifier\\keypoint_classifier.hdf5\n",
      "101/101 [==============================] - 1s 9ms/step - loss: 1.0054 - accuracy: 0.6473 - val_loss: 0.5085 - val_accuracy: 0.8851\n",
      "Epoch 39/1000\n",
      " 92/101 [==========================>...] - ETA: 0s - loss: 0.9963 - accuracy: 0.6546\n",
      "Epoch 39: saving model to model/keypoint_classifier\\keypoint_classifier.hdf5\n",
      "101/101 [==============================] - 1s 10ms/step - loss: 0.9954 - accuracy: 0.6547 - val_loss: 0.4937 - val_accuracy: 0.9056\n",
      "Epoch 40/1000\n",
      "101/101 [==============================] - ETA: 0s - loss: 1.0051 - accuracy: 0.6451\n",
      "Epoch 40: saving model to model/keypoint_classifier\\keypoint_classifier.hdf5\n",
      "101/101 [==============================] - 1s 9ms/step - loss: 1.0051 - accuracy: 0.6451 - val_loss: 0.4958 - val_accuracy: 0.9040\n",
      "Epoch 41/1000\n",
      " 98/101 [============================>.] - ETA: 0s - loss: 0.9820 - accuracy: 0.6506\n",
      "Epoch 41: saving model to model/keypoint_classifier\\keypoint_classifier.hdf5\n",
      "101/101 [==============================] - 1s 10ms/step - loss: 0.9843 - accuracy: 0.6494 - val_loss: 0.4793 - val_accuracy: 0.9082\n",
      "Epoch 42/1000\n",
      " 97/101 [===========================>..] - ETA: 0s - loss: 0.9990 - accuracy: 0.6484\n",
      "Epoch 42: saving model to model/keypoint_classifier\\keypoint_classifier.hdf5\n",
      "101/101 [==============================] - 1s 7ms/step - loss: 0.9987 - accuracy: 0.6478 - val_loss: 0.4750 - val_accuracy: 0.9098\n",
      "Epoch 43/1000\n",
      " 92/101 [==========================>...] - ETA: 0s - loss: 0.9734 - accuracy: 0.6473\n",
      "Epoch 43: saving model to model/keypoint_classifier\\keypoint_classifier.hdf5\n",
      "101/101 [==============================] - 1s 9ms/step - loss: 0.9726 - accuracy: 0.6478 - val_loss: 0.4818 - val_accuracy: 0.8977\n",
      "Epoch 44/1000\n",
      " 95/101 [===========================>..] - ETA: 0s - loss: 0.9669 - accuracy: 0.6603\n",
      "Epoch 44: saving model to model/keypoint_classifier\\keypoint_classifier.hdf5\n",
      "101/101 [==============================] - 1s 9ms/step - loss: 0.9650 - accuracy: 0.6608 - val_loss: 0.4665 - val_accuracy: 0.9084\n",
      "Epoch 45/1000\n",
      " 92/101 [==========================>...] - ETA: 0s - loss: 0.9692 - accuracy: 0.6596\n",
      "Epoch 45: saving model to model/keypoint_classifier\\keypoint_classifier.hdf5\n",
      "101/101 [==============================] - 1s 9ms/step - loss: 0.9672 - accuracy: 0.6597 - val_loss: 0.4653 - val_accuracy: 0.9007\n",
      "Epoch 46/1000\n",
      " 98/101 [============================>.] - ETA: 0s - loss: 0.9611 - accuracy: 0.6590\n",
      "Epoch 46: saving model to model/keypoint_classifier\\keypoint_classifier.hdf5\n",
      "101/101 [==============================] - 1s 9ms/step - loss: 0.9598 - accuracy: 0.6590 - val_loss: 0.4637 - val_accuracy: 0.9098\n",
      "Epoch 47/1000\n",
      " 97/101 [===========================>..] - ETA: 0s - loss: 0.9649 - accuracy: 0.6568\n",
      "Epoch 47: saving model to model/keypoint_classifier\\keypoint_classifier.hdf5\n",
      "101/101 [==============================] - 1s 9ms/step - loss: 0.9632 - accuracy: 0.6576 - val_loss: 0.4651 - val_accuracy: 0.9117\n",
      "Epoch 48/1000\n",
      " 95/101 [===========================>..] - ETA: 0s - loss: 0.9379 - accuracy: 0.6693\n",
      "Epoch 48: saving model to model/keypoint_classifier\\keypoint_classifier.hdf5\n",
      "101/101 [==============================] - 1s 10ms/step - loss: 0.9378 - accuracy: 0.6688 - val_loss: 0.4414 - val_accuracy: 0.9126\n",
      "Epoch 49/1000\n",
      " 91/101 [==========================>...] - ETA: 0s - loss: 0.9549 - accuracy: 0.6624\n",
      "Epoch 49: saving model to model/keypoint_classifier\\keypoint_classifier.hdf5\n",
      "101/101 [==============================] - 1s 9ms/step - loss: 0.9528 - accuracy: 0.6639 - val_loss: 0.4397 - val_accuracy: 0.9077\n",
      "Epoch 50/1000\n",
      " 94/101 [==========================>...] - ETA: 0s - loss: 0.9630 - accuracy: 0.6578\n",
      "Epoch 50: saving model to model/keypoint_classifier\\keypoint_classifier.hdf5\n",
      "101/101 [==============================] - 1s 10ms/step - loss: 0.9623 - accuracy: 0.6584 - val_loss: 0.4576 - val_accuracy: 0.9079\n",
      "Epoch 51/1000\n",
      " 92/101 [==========================>...] - ETA: 0s - loss: 0.9455 - accuracy: 0.6611\n",
      "Epoch 51: saving model to model/keypoint_classifier\\keypoint_classifier.hdf5\n",
      "101/101 [==============================] - 1s 10ms/step - loss: 0.9436 - accuracy: 0.6622 - val_loss: 0.4425 - val_accuracy: 0.9156\n",
      "Epoch 52/1000\n",
      "100/101 [============================>.] - ETA: 0s - loss: 0.9557 - accuracy: 0.6591\n",
      "Epoch 52: saving model to model/keypoint_classifier\\keypoint_classifier.hdf5\n",
      "101/101 [==============================] - 1s 10ms/step - loss: 0.9552 - accuracy: 0.6591 - val_loss: 0.4393 - val_accuracy: 0.9117\n",
      "Epoch 53/1000\n",
      " 95/101 [===========================>..] - ETA: 0s - loss: 0.9527 - accuracy: 0.6609\n",
      "Epoch 53: saving model to model/keypoint_classifier\\keypoint_classifier.hdf5\n",
      "101/101 [==============================] - 1s 11ms/step - loss: 0.9504 - accuracy: 0.6608 - val_loss: 0.4389 - val_accuracy: 0.9147\n",
      "Epoch 54/1000\n",
      " 97/101 [===========================>..] - ETA: 0s - loss: 0.9439 - accuracy: 0.6660\n",
      "Epoch 54: saving model to model/keypoint_classifier\\keypoint_classifier.hdf5\n",
      "101/101 [==============================] - 1s 9ms/step - loss: 0.9449 - accuracy: 0.6651 - val_loss: 0.4354 - val_accuracy: 0.9173\n"
     ]
    },
    {
     "name": "stdout",
     "output_type": "stream",
     "text": [
      "Epoch 55/1000\n",
      " 93/101 [==========================>...] - ETA: 0s - loss: 0.9459 - accuracy: 0.6626\n",
      "Epoch 55: saving model to model/keypoint_classifier\\keypoint_classifier.hdf5\n",
      "101/101 [==============================] - 1s 10ms/step - loss: 0.9465 - accuracy: 0.6626 - val_loss: 0.4385 - val_accuracy: 0.9189\n",
      "Epoch 56/1000\n",
      " 93/101 [==========================>...] - ETA: 0s - loss: 0.9307 - accuracy: 0.6693\n",
      "Epoch 56: saving model to model/keypoint_classifier\\keypoint_classifier.hdf5\n",
      "101/101 [==============================] - 1s 10ms/step - loss: 0.9272 - accuracy: 0.6697 - val_loss: 0.4254 - val_accuracy: 0.9182\n",
      "Epoch 57/1000\n",
      " 95/101 [===========================>..] - ETA: 0s - loss: 0.9368 - accuracy: 0.6645\n",
      "Epoch 57: saving model to model/keypoint_classifier\\keypoint_classifier.hdf5\n",
      "101/101 [==============================] - 1s 12ms/step - loss: 0.9351 - accuracy: 0.6646 - val_loss: 0.4341 - val_accuracy: 0.9098\n",
      "Epoch 58/1000\n",
      " 99/101 [============================>.] - ETA: 0s - loss: 0.9310 - accuracy: 0.6644\n",
      "Epoch 58: saving model to model/keypoint_classifier\\keypoint_classifier.hdf5\n",
      "101/101 [==============================] - 1s 9ms/step - loss: 0.9317 - accuracy: 0.6640 - val_loss: 0.4271 - val_accuracy: 0.9128\n",
      "Epoch 59/1000\n",
      " 91/101 [==========================>...] - ETA: 0s - loss: 0.9131 - accuracy: 0.6751\n",
      "Epoch 59: saving model to model/keypoint_classifier\\keypoint_classifier.hdf5\n",
      "101/101 [==============================] - 1s 9ms/step - loss: 0.9118 - accuracy: 0.6766 - val_loss: 0.4295 - val_accuracy: 0.9140\n",
      "Epoch 60/1000\n",
      " 96/101 [===========================>..] - ETA: 0s - loss: 0.9275 - accuracy: 0.6686\n",
      "Epoch 60: saving model to model/keypoint_classifier\\keypoint_classifier.hdf5\n",
      "101/101 [==============================] - 1s 9ms/step - loss: 0.9257 - accuracy: 0.6702 - val_loss: 0.4191 - val_accuracy: 0.9177\n",
      "Epoch 61/1000\n",
      " 95/101 [===========================>..] - ETA: 0s - loss: 0.9138 - accuracy: 0.6748\n",
      "Epoch 61: saving model to model/keypoint_classifier\\keypoint_classifier.hdf5\n",
      "101/101 [==============================] - 1s 7ms/step - loss: 0.9106 - accuracy: 0.6759 - val_loss: 0.4261 - val_accuracy: 0.9217\n",
      "Epoch 62/1000\n",
      " 96/101 [===========================>..] - ETA: 0s - loss: 0.9163 - accuracy: 0.6788\n",
      "Epoch 62: saving model to model/keypoint_classifier\\keypoint_classifier.hdf5\n",
      "101/101 [==============================] - 1s 9ms/step - loss: 0.9173 - accuracy: 0.6784 - val_loss: 0.4258 - val_accuracy: 0.9308\n",
      "Epoch 63/1000\n",
      " 98/101 [============================>.] - ETA: 0s - loss: 0.9133 - accuracy: 0.6761\n",
      "Epoch 63: saving model to model/keypoint_classifier\\keypoint_classifier.hdf5\n",
      "101/101 [==============================] - 1s 10ms/step - loss: 0.9148 - accuracy: 0.6755 - val_loss: 0.4190 - val_accuracy: 0.9306\n",
      "Epoch 64/1000\n",
      "100/101 [============================>.] - ETA: 0s - loss: 0.8912 - accuracy: 0.6870\n",
      "Epoch 64: saving model to model/keypoint_classifier\\keypoint_classifier.hdf5\n",
      "101/101 [==============================] - 1s 10ms/step - loss: 0.8914 - accuracy: 0.6869 - val_loss: 0.4049 - val_accuracy: 0.9299\n",
      "Epoch 65/1000\n",
      "101/101 [==============================] - ETA: 0s - loss: 0.9161 - accuracy: 0.6764\n",
      "Epoch 65: saving model to model/keypoint_classifier\\keypoint_classifier.hdf5\n",
      "101/101 [==============================] - 1s 10ms/step - loss: 0.9161 - accuracy: 0.6764 - val_loss: 0.4137 - val_accuracy: 0.9340\n",
      "Epoch 66/1000\n",
      " 96/101 [===========================>..] - ETA: 0s - loss: 0.8974 - accuracy: 0.6842\n",
      "Epoch 66: saving model to model/keypoint_classifier\\keypoint_classifier.hdf5\n",
      "101/101 [==============================] - 1s 10ms/step - loss: 0.9001 - accuracy: 0.6829 - val_loss: 0.4030 - val_accuracy: 0.9317\n",
      "Epoch 67/1000\n",
      " 98/101 [============================>.] - ETA: 0s - loss: 0.8897 - accuracy: 0.6826\n",
      "Epoch 67: saving model to model/keypoint_classifier\\keypoint_classifier.hdf5\n",
      "101/101 [==============================] - 1s 10ms/step - loss: 0.8907 - accuracy: 0.6828 - val_loss: 0.4115 - val_accuracy: 0.9322\n",
      "Epoch 68/1000\n",
      "100/101 [============================>.] - ETA: 0s - loss: 0.9029 - accuracy: 0.6794\n",
      "Epoch 68: saving model to model/keypoint_classifier\\keypoint_classifier.hdf5\n",
      "101/101 [==============================] - 1s 9ms/step - loss: 0.9020 - accuracy: 0.6796 - val_loss: 0.4142 - val_accuracy: 0.9247\n",
      "Epoch 69/1000\n",
      " 97/101 [===========================>..] - ETA: 0s - loss: 0.8933 - accuracy: 0.6817\n",
      "Epoch 69: saving model to model/keypoint_classifier\\keypoint_classifier.hdf5\n",
      "101/101 [==============================] - 1s 11ms/step - loss: 0.8945 - accuracy: 0.6819 - val_loss: 0.4026 - val_accuracy: 0.9320\n",
      "Epoch 70/1000\n",
      "100/101 [============================>.] - ETA: 0s - loss: 0.8900 - accuracy: 0.6834\n",
      "Epoch 70: saving model to model/keypoint_classifier\\keypoint_classifier.hdf5\n",
      "101/101 [==============================] - 1s 11ms/step - loss: 0.8893 - accuracy: 0.6839 - val_loss: 0.4001 - val_accuracy: 0.9406\n",
      "Epoch 71/1000\n",
      " 95/101 [===========================>..] - ETA: 0s - loss: 0.8906 - accuracy: 0.6859\n",
      "Epoch 71: saving model to model/keypoint_classifier\\keypoint_classifier.hdf5\n",
      "101/101 [==============================] - 1s 11ms/step - loss: 0.8887 - accuracy: 0.6854 - val_loss: 0.4009 - val_accuracy: 0.9299\n",
      "Epoch 72/1000\n",
      " 95/101 [===========================>..] - ETA: 0s - loss: 0.8932 - accuracy: 0.6864\n",
      "Epoch 72: saving model to model/keypoint_classifier\\keypoint_classifier.hdf5\n",
      "101/101 [==============================] - 1s 10ms/step - loss: 0.8916 - accuracy: 0.6873 - val_loss: 0.3968 - val_accuracy: 0.9364\n",
      "Epoch 73/1000\n",
      " 94/101 [==========================>...] - ETA: 0s - loss: 0.8849 - accuracy: 0.6853\n",
      "Epoch 73: saving model to model/keypoint_classifier\\keypoint_classifier.hdf5\n",
      "101/101 [==============================] - 1s 9ms/step - loss: 0.8869 - accuracy: 0.6842 - val_loss: 0.4071 - val_accuracy: 0.9378\n",
      "Epoch 74/1000\n",
      "101/101 [==============================] - ETA: 0s - loss: 0.8799 - accuracy: 0.6898\n",
      "Epoch 74: saving model to model/keypoint_classifier\\keypoint_classifier.hdf5\n",
      "101/101 [==============================] - 1s 9ms/step - loss: 0.8799 - accuracy: 0.6898 - val_loss: 0.3968 - val_accuracy: 0.9408\n",
      "Epoch 75/1000\n",
      "100/101 [============================>.] - ETA: 0s - loss: 0.8875 - accuracy: 0.6864\n",
      "Epoch 75: saving model to model/keypoint_classifier\\keypoint_classifier.hdf5\n",
      "101/101 [==============================] - 1s 9ms/step - loss: 0.8885 - accuracy: 0.6860 - val_loss: 0.3867 - val_accuracy: 0.9380\n",
      "Epoch 76/1000\n",
      " 92/101 [==========================>...] - ETA: 0s - loss: 0.8871 - accuracy: 0.6892\n",
      "Epoch 76: saving model to model/keypoint_classifier\\keypoint_classifier.hdf5\n",
      "101/101 [==============================] - 1s 9ms/step - loss: 0.8867 - accuracy: 0.6879 - val_loss: 0.3907 - val_accuracy: 0.9350\n",
      "Epoch 77/1000\n",
      " 95/101 [===========================>..] - ETA: 0s - loss: 0.8882 - accuracy: 0.6843\n",
      "Epoch 77: saving model to model/keypoint_classifier\\keypoint_classifier.hdf5\n",
      "101/101 [==============================] - 1s 9ms/step - loss: 0.8883 - accuracy: 0.6853 - val_loss: 0.3960 - val_accuracy: 0.9371\n",
      "Epoch 78/1000\n",
      "100/101 [============================>.] - ETA: 0s - loss: 0.8826 - accuracy: 0.6800\n",
      "Epoch 78: saving model to model/keypoint_classifier\\keypoint_classifier.hdf5\n",
      "101/101 [==============================] - 1s 7ms/step - loss: 0.8831 - accuracy: 0.6797 - val_loss: 0.3939 - val_accuracy: 0.9361\n",
      "Epoch 79/1000\n",
      " 98/101 [============================>.] - ETA: 0s - loss: 0.8819 - accuracy: 0.6839\n",
      "Epoch 79: saving model to model/keypoint_classifier\\keypoint_classifier.hdf5\n",
      "101/101 [==============================] - 1s 7ms/step - loss: 0.8816 - accuracy: 0.6843 - val_loss: 0.3879 - val_accuracy: 0.9401\n",
      "Epoch 80/1000\n",
      " 97/101 [===========================>..] - ETA: 0s - loss: 0.8587 - accuracy: 0.6896\n",
      "Epoch 80: saving model to model/keypoint_classifier\\keypoint_classifier.hdf5\n",
      "101/101 [==============================] - 1s 10ms/step - loss: 0.8613 - accuracy: 0.6888 - val_loss: 0.3776 - val_accuracy: 0.9459\n",
      "Epoch 81/1000\n",
      " 99/101 [============================>.] - ETA: 0s - loss: 0.8775 - accuracy: 0.6871\n",
      "Epoch 81: saving model to model/keypoint_classifier\\keypoint_classifier.hdf5\n",
      "101/101 [==============================] - 1s 11ms/step - loss: 0.8769 - accuracy: 0.6876 - val_loss: 0.3912 - val_accuracy: 0.9438\n"
     ]
    },
    {
     "name": "stdout",
     "output_type": "stream",
     "text": [
      "Epoch 82/1000\n",
      "101/101 [==============================] - ETA: 0s - loss: 0.8798 - accuracy: 0.6869\n",
      "Epoch 82: saving model to model/keypoint_classifier\\keypoint_classifier.hdf5\n",
      "101/101 [==============================] - 1s 10ms/step - loss: 0.8798 - accuracy: 0.6869 - val_loss: 0.3841 - val_accuracy: 0.9408\n",
      "Epoch 83/1000\n",
      "100/101 [============================>.] - ETA: 0s - loss: 0.8699 - accuracy: 0.6893\n",
      "Epoch 83: saving model to model/keypoint_classifier\\keypoint_classifier.hdf5\n",
      "101/101 [==============================] - 1s 10ms/step - loss: 0.8702 - accuracy: 0.6890 - val_loss: 0.3772 - val_accuracy: 0.9450\n",
      "Epoch 84/1000\n",
      " 97/101 [===========================>..] - ETA: 0s - loss: 0.8731 - accuracy: 0.6927\n",
      "Epoch 84: saving model to model/keypoint_classifier\\keypoint_classifier.hdf5\n",
      "101/101 [==============================] - 1s 9ms/step - loss: 0.8722 - accuracy: 0.6928 - val_loss: 0.3916 - val_accuracy: 0.9431\n",
      "Epoch 85/1000\n",
      "100/101 [============================>.] - ETA: 0s - loss: 0.8730 - accuracy: 0.6908\n",
      "Epoch 85: saving model to model/keypoint_classifier\\keypoint_classifier.hdf5\n",
      "101/101 [==============================] - 1s 12ms/step - loss: 0.8729 - accuracy: 0.6907 - val_loss: 0.4001 - val_accuracy: 0.9340\n",
      "Epoch 86/1000\n",
      " 99/101 [============================>.] - ETA: 0s - loss: 0.8702 - accuracy: 0.6928\n",
      "Epoch 86: saving model to model/keypoint_classifier\\keypoint_classifier.hdf5\n",
      "101/101 [==============================] - 1s 10ms/step - loss: 0.8714 - accuracy: 0.6921 - val_loss: 0.3797 - val_accuracy: 0.9436\n",
      "Epoch 87/1000\n",
      " 94/101 [==========================>...] - ETA: 0s - loss: 0.8745 - accuracy: 0.6878\n",
      "Epoch 87: saving model to model/keypoint_classifier\\keypoint_classifier.hdf5\n",
      "101/101 [==============================] - 1s 10ms/step - loss: 0.8747 - accuracy: 0.6867 - val_loss: 0.3913 - val_accuracy: 0.9441\n",
      "Epoch 88/1000\n",
      " 98/101 [============================>.] - ETA: 0s - loss: 0.8748 - accuracy: 0.6899\n",
      "Epoch 88: saving model to model/keypoint_classifier\\keypoint_classifier.hdf5\n",
      "101/101 [==============================] - 1s 11ms/step - loss: 0.8730 - accuracy: 0.6905 - val_loss: 0.3867 - val_accuracy: 0.9469\n",
      "Epoch 89/1000\n",
      " 97/101 [===========================>..] - ETA: 0s - loss: 0.8510 - accuracy: 0.6983\n",
      "Epoch 89: saving model to model/keypoint_classifier\\keypoint_classifier.hdf5\n",
      "101/101 [==============================] - 1s 9ms/step - loss: 0.8508 - accuracy: 0.6980 - val_loss: 0.3942 - val_accuracy: 0.9368\n",
      "Epoch 90/1000\n",
      " 98/101 [============================>.] - ETA: 0s - loss: 0.8540 - accuracy: 0.6974\n",
      "Epoch 90: saving model to model/keypoint_classifier\\keypoint_classifier.hdf5\n",
      "101/101 [==============================] - 1s 10ms/step - loss: 0.8544 - accuracy: 0.6972 - val_loss: 0.3781 - val_accuracy: 0.9427\n",
      "Epoch 91/1000\n",
      "100/101 [============================>.] - ETA: 0s - loss: 0.8483 - accuracy: 0.6994\n",
      "Epoch 91: saving model to model/keypoint_classifier\\keypoint_classifier.hdf5\n",
      "101/101 [==============================] - 1s 9ms/step - loss: 0.8473 - accuracy: 0.6995 - val_loss: 0.3784 - val_accuracy: 0.9415\n",
      "Epoch 92/1000\n",
      " 93/101 [==========================>...] - ETA: 0s - loss: 0.8562 - accuracy: 0.6984\n",
      "Epoch 92: saving model to model/keypoint_classifier\\keypoint_classifier.hdf5\n",
      "101/101 [==============================] - 1s 9ms/step - loss: 0.8592 - accuracy: 0.6965 - val_loss: 0.3743 - val_accuracy: 0.9445\n",
      "Epoch 93/1000\n",
      " 99/101 [============================>.] - ETA: 0s - loss: 0.8624 - accuracy: 0.6910\n",
      "Epoch 93: saving model to model/keypoint_classifier\\keypoint_classifier.hdf5\n",
      "101/101 [==============================] - 1s 8ms/step - loss: 0.8643 - accuracy: 0.6903 - val_loss: 0.3817 - val_accuracy: 0.9448\n",
      "Epoch 94/1000\n",
      " 99/101 [============================>.] - ETA: 0s - loss: 0.8557 - accuracy: 0.6950\n",
      "Epoch 94: saving model to model/keypoint_classifier\\keypoint_classifier.hdf5\n",
      "101/101 [==============================] - 1s 9ms/step - loss: 0.8561 - accuracy: 0.6951 - val_loss: 0.3738 - val_accuracy: 0.9462\n",
      "Epoch 95/1000\n",
      " 97/101 [===========================>..] - ETA: 0s - loss: 0.8651 - accuracy: 0.6936\n",
      "Epoch 95: saving model to model/keypoint_classifier\\keypoint_classifier.hdf5\n",
      "101/101 [==============================] - 1s 10ms/step - loss: 0.8672 - accuracy: 0.6932 - val_loss: 0.3888 - val_accuracy: 0.9389\n",
      "Epoch 96/1000\n",
      " 95/101 [===========================>..] - ETA: 0s - loss: 0.8591 - accuracy: 0.6965\n",
      "Epoch 96: saving model to model/keypoint_classifier\\keypoint_classifier.hdf5\n",
      "101/101 [==============================] - 1s 8ms/step - loss: 0.8594 - accuracy: 0.6969 - val_loss: 0.3871 - val_accuracy: 0.9373\n",
      "Epoch 97/1000\n",
      "101/101 [==============================] - ETA: 0s - loss: 0.8514 - accuracy: 0.6943\n",
      "Epoch 97: saving model to model/keypoint_classifier\\keypoint_classifier.hdf5\n",
      "101/101 [==============================] - 1s 10ms/step - loss: 0.8514 - accuracy: 0.6943 - val_loss: 0.3841 - val_accuracy: 0.9364\n",
      "Epoch 98/1000\n",
      " 99/101 [============================>.] - ETA: 0s - loss: 0.8517 - accuracy: 0.6961\n",
      "Epoch 98: saving model to model/keypoint_classifier\\keypoint_classifier.hdf5\n",
      "101/101 [==============================] - 1s 11ms/step - loss: 0.8529 - accuracy: 0.6958 - val_loss: 0.3754 - val_accuracy: 0.9459\n",
      "Epoch 99/1000\n",
      " 98/101 [============================>.] - ETA: 0s - loss: 0.8496 - accuracy: 0.6988\n",
      "Epoch 99: saving model to model/keypoint_classifier\\keypoint_classifier.hdf5\n",
      "101/101 [==============================] - 1s 11ms/step - loss: 0.8481 - accuracy: 0.6997 - val_loss: 0.3763 - val_accuracy: 0.9422\n",
      "Epoch 100/1000\n",
      " 98/101 [============================>.] - ETA: 0s - loss: 0.8503 - accuracy: 0.6955\n",
      "Epoch 100: saving model to model/keypoint_classifier\\keypoint_classifier.hdf5\n",
      "101/101 [==============================] - 1s 10ms/step - loss: 0.8513 - accuracy: 0.6943 - val_loss: 0.3875 - val_accuracy: 0.9399\n",
      "Epoch 101/1000\n",
      " 98/101 [============================>.] - ETA: 0s - loss: 0.8480 - accuracy: 0.6950\n",
      "Epoch 101: saving model to model/keypoint_classifier\\keypoint_classifier.hdf5\n",
      "101/101 [==============================] - 1s 10ms/step - loss: 0.8472 - accuracy: 0.6947 - val_loss: 0.3894 - val_accuracy: 0.9373\n",
      "Epoch 102/1000\n",
      " 99/101 [============================>.] - ETA: 0s - loss: 0.8611 - accuracy: 0.6955\n",
      "Epoch 102: saving model to model/keypoint_classifier\\keypoint_classifier.hdf5\n",
      "101/101 [==============================] - 1s 11ms/step - loss: 0.8621 - accuracy: 0.6957 - val_loss: 0.3917 - val_accuracy: 0.9445\n",
      "Epoch 103/1000\n",
      " 97/101 [===========================>..] - ETA: 0s - loss: 0.8547 - accuracy: 0.6997\n",
      "Epoch 103: saving model to model/keypoint_classifier\\keypoint_classifier.hdf5\n",
      "101/101 [==============================] - 1s 11ms/step - loss: 0.8553 - accuracy: 0.6993 - val_loss: 0.3895 - val_accuracy: 0.9413\n",
      "Epoch 104/1000\n",
      " 95/101 [===========================>..] - ETA: 0s - loss: 0.8432 - accuracy: 0.7010\n",
      "Epoch 104: saving model to model/keypoint_classifier\\keypoint_classifier.hdf5\n",
      "101/101 [==============================] - 1s 9ms/step - loss: 0.8391 - accuracy: 0.7027 - val_loss: 0.3743 - val_accuracy: 0.9448\n",
      "Epoch 105/1000\n",
      "101/101 [==============================] - ETA: 0s - loss: 0.8457 - accuracy: 0.7013\n",
      "Epoch 105: saving model to model/keypoint_classifier\\keypoint_classifier.hdf5\n",
      "101/101 [==============================] - 1s 10ms/step - loss: 0.8457 - accuracy: 0.7013 - val_loss: 0.3828 - val_accuracy: 0.9473\n",
      "Epoch 106/1000\n",
      " 93/101 [==========================>...] - ETA: 0s - loss: 0.8429 - accuracy: 0.7000\n",
      "Epoch 106: saving model to model/keypoint_classifier\\keypoint_classifier.hdf5\n",
      "101/101 [==============================] - 1s 10ms/step - loss: 0.8464 - accuracy: 0.6978 - val_loss: 0.3826 - val_accuracy: 0.9436\n",
      "Epoch 107/1000\n",
      "100/101 [============================>.] - ETA: 0s - loss: 0.8534 - accuracy: 0.6922\n",
      "Epoch 107: saving model to model/keypoint_classifier\\keypoint_classifier.hdf5\n",
      "101/101 [==============================] - 1s 9ms/step - loss: 0.8537 - accuracy: 0.6923 - val_loss: 0.3836 - val_accuracy: 0.9452\n",
      "Epoch 108/1000\n",
      " 94/101 [==========================>...] - ETA: 0s - loss: 0.8547 - accuracy: 0.6947\n",
      "Epoch 108: saving model to model/keypoint_classifier\\keypoint_classifier.hdf5\n"
     ]
    },
    {
     "name": "stdout",
     "output_type": "stream",
     "text": [
      "101/101 [==============================] - 1s 9ms/step - loss: 0.8567 - accuracy: 0.6940 - val_loss: 0.4010 - val_accuracy: 0.9322\n",
      "Epoch 109/1000\n",
      " 92/101 [==========================>...] - ETA: 0s - loss: 0.8375 - accuracy: 0.7006\n",
      "Epoch 109: saving model to model/keypoint_classifier\\keypoint_classifier.hdf5\n",
      "101/101 [==============================] - 1s 10ms/step - loss: 0.8399 - accuracy: 0.6999 - val_loss: 0.3795 - val_accuracy: 0.9424\n",
      "Epoch 110/1000\n",
      " 94/101 [==========================>...] - ETA: 0s - loss: 0.8429 - accuracy: 0.6987\n",
      "Epoch 110: saving model to model/keypoint_classifier\\keypoint_classifier.hdf5\n",
      "101/101 [==============================] - 1s 8ms/step - loss: 0.8443 - accuracy: 0.6978 - val_loss: 0.3901 - val_accuracy: 0.9345\n",
      "Epoch 111/1000\n",
      " 96/101 [===========================>..] - ETA: 0s - loss: 0.8393 - accuracy: 0.6973\n",
      "Epoch 111: saving model to model/keypoint_classifier\\keypoint_classifier.hdf5\n",
      "101/101 [==============================] - 1s 9ms/step - loss: 0.8370 - accuracy: 0.6985 - val_loss: 0.3918 - val_accuracy: 0.9434\n",
      "Epoch 112/1000\n",
      " 97/101 [===========================>..] - ETA: 0s - loss: 0.8545 - accuracy: 0.6964\n",
      "Epoch 112: saving model to model/keypoint_classifier\\keypoint_classifier.hdf5\n",
      "101/101 [==============================] - 1s 10ms/step - loss: 0.8525 - accuracy: 0.6966 - val_loss: 0.3955 - val_accuracy: 0.9410\n",
      "Epoch 113/1000\n",
      " 95/101 [===========================>..] - ETA: 0s - loss: 0.8406 - accuracy: 0.7025\n",
      "Epoch 113: saving model to model/keypoint_classifier\\keypoint_classifier.hdf5\n",
      "101/101 [==============================] - 1s 10ms/step - loss: 0.8426 - accuracy: 0.7023 - val_loss: 0.3932 - val_accuracy: 0.9417\n",
      "Epoch 114/1000\n",
      " 94/101 [==========================>...] - ETA: 0s - loss: 0.8450 - accuracy: 0.7004\n",
      "Epoch 114: saving model to model/keypoint_classifier\\keypoint_classifier.hdf5\n",
      "101/101 [==============================] - 1s 10ms/step - loss: 0.8475 - accuracy: 0.6992 - val_loss: 0.3838 - val_accuracy: 0.9448\n",
      "Epoch 114: early stopping\n"
     ]
    },
    {
     "data": {
      "text/plain": [
       "<keras.src.callbacks.History at 0x1e488822680>"
      ]
     },
     "execution_count": 11,
     "metadata": {},
     "output_type": "execute_result"
    }
   ],
   "source": [
    "model.fit(\n",
    "    X_train,\n",
    "    y_train,\n",
    "    epochs=1000,\n",
    "    batch_size=128,\n",
    "    validation_data=(X_test, y_test),\n",
    "    callbacks=[cp_callback, es_callback]\n",
    ")"
   ]
  },
  {
   "cell_type": "code",
   "execution_count": 12,
   "metadata": {
    "colab": {
     "base_uri": "https://localhost:8080/"
    },
    "id": "pxvb2Y299hE3",
    "outputId": "59eb3185-2e37-4b9e-bc9d-ab1b8ac29b7f"
   },
   "outputs": [
    {
     "name": "stdout",
     "output_type": "stream",
     "text": [
      "34/34 [==============================] - 0s 4ms/step - loss: 0.3838 - accuracy: 0.9448\n"
     ]
    }
   ],
   "source": [
    "# Model evaluation\n",
    "val_loss, val_acc = model.evaluate(X_test, y_test, batch_size=128)"
   ]
  },
  {
   "cell_type": "code",
   "execution_count": 13,
   "metadata": {
    "id": "RBkmDeUW9hE4"
   },
   "outputs": [],
   "source": [
    "# Loading the saved model\n",
    "model = tf.keras.models.load_model(model_save_path)"
   ]
  },
  {
   "cell_type": "code",
   "execution_count": 14,
   "metadata": {
    "colab": {
     "base_uri": "https://localhost:8080/"
    },
    "id": "tFz9Tb0I9hE4",
    "outputId": "1c3b3528-54ae-4ee2-ab04-77429211cbef"
   },
   "outputs": [
    {
     "name": "stdout",
     "output_type": "stream",
     "text": [
      "1/1 [==============================] - 0s 267ms/step\n",
      "[2.6941049e-01 1.4284625e-02 4.9579737e-01 7.1193988e-08 8.9497837e-07\n",
      " 1.9007920e-04 7.5008087e-02 1.4528836e-01 8.1703993e-06 1.5450186e-14\n",
      " 1.1854735e-05]\n",
      "2\n"
     ]
    }
   ],
   "source": [
    "# Inference test\n",
    "predict_result = model.predict(np.array([X_test[0]]))\n",
    "print(np.squeeze(predict_result))\n",
    "print(np.argmax(np.squeeze(predict_result)))"
   ]
  },
  {
   "cell_type": "markdown",
   "metadata": {
    "id": "S3U4yNWx9hE4"
   },
   "source": [
    "# Confusion matrix"
   ]
  },
  {
   "cell_type": "code",
   "execution_count": 15,
   "metadata": {
    "colab": {
     "base_uri": "https://localhost:8080/",
     "height": 582
    },
    "id": "AP1V6SCk9hE5",
    "outputId": "08e41a80-7a4a-4619-8125-ecc371368d19"
   },
   "outputs": [
    {
     "name": "stdout",
     "output_type": "stream",
     "text": [
      "135/135 [==============================] - 1s 4ms/step\n"
     ]
    },
    {
     "data": {
      "image/png": "[encoded data removed]",
      "text/plain": [
       "<Figure size 700x600 with 2 Axes>"
      ]
     },
     "metadata": {},
     "output_type": "display_data"
    },
    {
     "name": "stdout",
     "output_type": "stream",
     "text": [
      "Classification Report\n",
      "              precision    recall  f1-score   support\n",
      "\n",
      "           0       0.91      0.89      0.90       493\n",
      "           1       0.98      0.82      0.89       395\n",
      "           2       0.99      0.90      0.94       382\n",
      "           3       0.98      0.99      0.99       400\n",
      "           4       0.98      0.94      0.96       407\n",
      "           5       0.99      0.95      0.97       419\n",
      "           6       0.98      1.00      0.99       344\n",
      "           7       0.86      0.96      0.91       328\n",
      "           8       0.90      0.98      0.94       370\n",
      "           9       0.92      1.00      0.96       363\n",
      "          10       0.92      1.00      0.96       390\n",
      "\n",
      "    accuracy                           0.94      4291\n",
      "   macro avg       0.95      0.95      0.95      4291\n",
      "weighted avg       0.95      0.94      0.94      4291\n",
      "\n"
     ]
    }
   ],
   "source": [
    "import pandas as pd\n",
    "import seaborn as sns\n",
    "import matplotlib.pyplot as plt\n",
    "from sklearn.metrics import confusion_matrix, classification_report\n",
    "\n",
    "def print_confusion_matrix(y_true, y_pred, report=True):\n",
    "    labels = sorted(list(set(y_true)))\n",
    "    cmx_data = confusion_matrix(y_true, y_pred, labels=labels)\n",
    "    \n",
    "    df_cmx = pd.DataFrame(cmx_data, index=labels, columns=labels)\n",
    " \n",
    "    fig, ax = plt.subplots(figsize=(7, 6))\n",
    "    sns.heatmap(df_cmx, annot=True, fmt='g' ,square=False)\n",
    "    ax.set_ylim(len(set(y_true)), 0)\n",
    "    plt.show()\n",
    "    \n",
    "    if report:\n",
    "        print('Classification Report')\n",
    "        print(classification_report(y_test, y_pred))\n",
    "\n",
    "Y_pred = model.predict(X_test)\n",
    "y_pred = np.argmax(Y_pred, axis=1)\n",
    "\n",
    "print_confusion_matrix(y_test, y_pred)"
   ]
  },
  {
   "cell_type": "markdown",
   "metadata": {
    "id": "FNP6aqzc9hE5"
   },
   "source": [
    "# Convert to model for Tensorflow-Lite"
   ]
  },
  {
   "cell_type": "code",
   "execution_count": 16,
   "metadata": {
    "id": "ODjnYyld9hE6"
   },
   "outputs": [
    {
     "name": "stderr",
     "output_type": "stream",
     "text": [
      "C:\\Users\\amang\\anaconda3\\lib\\site-packages\\keras\\src\\engine\\training.py:3103: UserWarning: You are saving your model as an HDF5 file via `model.save()`. This file format is considered legacy. We recommend using instead the native Keras format, e.g. `model.save('my_model.keras')`.\n",
      "  saving_api.save_model(\n"
     ]
    }
   ],
   "source": [
    "# Save as a model dedicated to inference\n",
    "model.save(model_save_path, include_optimizer=False)"
   ]
  },
  {
   "cell_type": "code",
   "execution_count": 17,
   "metadata": {
    "colab": {
     "base_uri": "https://localhost:8080/"
    },
    "id": "zRfuK8Y59hE6",
    "outputId": "a4ca585c-b5d5-4244-8291-8674063209bb"
   },
   "outputs": [
    {
     "name": "stdout",
     "output_type": "stream",
     "text": [
      "INFO:tensorflow:Assets written to: C:\\Users\\amang\\AppData\\Local\\Temp\\tmpkpcf8l7u\\assets\n"
     ]
    },
    {
     "name": "stderr",
     "output_type": "stream",
     "text": [
      "INFO:tensorflow:Assets written to: C:\\Users\\amang\\AppData\\Local\\Temp\\tmpkpcf8l7u\\assets\n"
     ]
    },
    {
     "data": {
      "text/plain": [
       "6852"
      ]
     },
     "execution_count": 17,
     "metadata": {},
     "output_type": "execute_result"
    }
   ],
   "source": [
    "# Transform model (quantization)\n",
    "\n",
    "converter = tf.lite.TFLiteConverter.from_keras_model(model)\n",
    "converter.optimizations = [tf.lite.Optimize.DEFAULT]\n",
    "tflite_quantized_model = converter.convert()\n",
    "\n",
    "open(tflite_save_path, 'wb').write(tflite_quantized_model)"
   ]
  },
  {
   "cell_type": "markdown",
   "metadata": {
    "id": "CHBPBXdx9hE6"
   },
   "source": [
    "# Inference test"
   ]
  },
  {
   "cell_type": "code",
   "execution_count": 18,
   "metadata": {
    "id": "mGAzLocO9hE7"
   },
   "outputs": [],
   "source": [
    "interpreter = tf.lite.Interpreter(model_path=tflite_save_path)\n",
    "interpreter.allocate_tensors()"
   ]
  },
  {
   "cell_type": "code",
   "execution_count": 19,
   "metadata": {
    "id": "oQuDK8YS9hE7"
   },
   "outputs": [],
   "source": [
    "# Get I / O tensor\n",
    "input_details = interpreter.get_input_details()\n",
    "output_details = interpreter.get_output_details()"
   ]
  },
  {
   "cell_type": "code",
   "execution_count": 20,
   "metadata": {
    "id": "2_ixAf_l9hE7"
   },
   "outputs": [],
   "source": [
    "interpreter.set_tensor(input_details[0]['index'], np.array([X_test[0]]))"
   ]
  },
  {
   "cell_type": "code",
   "execution_count": 21,
   "metadata": {
    "colab": {
     "base_uri": "https://localhost:8080/"
    },
    "id": "s4FoAnuc9hE7",
    "outputId": "91f18257-8d8b-4ef3-c558-e9b5f94fabbf",
    "scrolled": true
   },
   "outputs": [
    {
     "name": "stdout",
     "output_type": "stream",
     "text": [
      "CPU times: total: 0 ns\n",
      "Wall time: 0 ns\n"
     ]
    }
   ],
   "source": [
    "%%time\n",
    "# Inference implementation\n",
    "interpreter.invoke()\n",
    "tflite_results = interpreter.get_tensor(output_details[0]['index'])"
   ]
  },
  {
   "cell_type": "code",
   "execution_count": 22,
   "metadata": {
    "colab": {
     "base_uri": "https://localhost:8080/"
    },
    "id": "vONjp19J9hE8",
    "outputId": "77205e24-fd00-42c4-f7b6-e06e527c2cba"
   },
   "outputs": [
    {
     "name": "stdout",
     "output_type": "stream",
     "text": [
      "[2.6941049e-01 1.4284642e-02 4.9579737e-01 7.1194123e-08 8.9498008e-07\n",
      " 1.9007920e-04 7.5008124e-02 1.4528832e-01 8.1704147e-06 1.5450303e-14\n",
      " 1.1854779e-05]\n",
      "2\n"
     ]
    }
   ],
   "source": [
    "print(np.squeeze(tflite_results))\n",
    "print(np.argmax(np.squeeze(tflite_results)))"
   ]
  }
 ],
 "metadata": {
  "accelerator": "GPU",
  "colab": {
   "collapsed_sections": [],
   "name": "keypoint_classification_EN.ipynb",
   "provenance": [],
   "toc_visible": true
  },
  "kernelspec": {
   "display_name": "Python 3 (ipykernel)",
   "language": "python",
   "name": "python3"
  },
  "language_info": {
   "codemirror_mode": {
    "name": "ipython",
    "version": 3
   },
   "file_extension": ".py",
   "mimetype": "text/x-python",
   "name": "python",
   "nbconvert_exporter": "python",
   "pygments_lexer": "ipython3",
   "version": "3.10.9"
  }
 },
 "nbformat": 4,
 "nbformat_minor": 1
}
